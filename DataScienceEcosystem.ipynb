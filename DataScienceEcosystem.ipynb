{
 "cells": [
  {
   "cell_type": "markdown",
   "id": "296610fd-b9a9-4218-974b-df76d9662a72",
   "metadata": {},
   "source": [
    "# Data Science Tools and Ecosystem\n"
   ]
  },
  {
   "cell_type": "markdown",
   "id": "4bb83df8-13d0-4fce-9e9f-63ccceb29bc1",
   "metadata": {},
   "source": [
    "## Introduction\n",
    "\n",
    "This notebook is the Final Assignment of the Module 6 for the Tools for Data Science course. It includes various exercises that demonstrate the core concepts and tools used in data science.\n"
   ]
  },
  {
   "cell_type": "markdown",
   "id": "3c99b99c-cbd9-4b88-9296-416b79a99b59",
   "metadata": {},
   "source": [
    "## Objectives\n",
    "\n",
    "- List popular languages for Data Science\n",
    "- Identify key libraries used in Data Science\n",
    "- Create and utilize Jupyter Notebooks effectively\n"
   ]
  },
  {
   "cell_type": "markdown",
   "id": "714052c3-417b-4aa2-896c-89d27e99f37a",
   "metadata": {},
   "source": [
    "## Data Science Languages\n",
    "\n",
    "1. Python\n",
    "2. R\n",
    "3. SQL\n",
    "4. Julia\n",
    "5. Scala\n"
   ]
  },
  {
   "cell_type": "markdown",
   "id": "0fef3514-0790-411e-a003-0a0b284de93a",
   "metadata": {},
   "source": [
    "## Data Science Libraries\n",
    "\n",
    "1. NumPy\n",
    "2. Pandas\n",
    "3. Matplotlib\n",
    "4. Scikit-learn\n",
    "5. TensorFlow\n"
   ]
  },
  {
   "cell_type": "markdown",
   "id": "f425e168-e40b-43db-b63b-fa656997bb36",
   "metadata": {
    "jp-MarkdownHeadingCollapsed": true
   },
   "source": [
    "## Data Science Tools\r\n",
    "\r\n",
    "| Data Science Tools           |\r\n",
    "|------------------------------|\r\n",
    "| Jupyter                      |\r\n",
    "| RStudio                      |\r\n",
    "| Apache Zeppelin              |\r\n"
   ]
  },
  {
   "cell_type": "markdown",
   "id": "1d9f5860-cd1d-4635-a3a2-be9c47336d08",
   "metadata": {},
   "source": [
    "## Arithmetic Expression Examples\r\n",
    "\r\n",
    "### Examples of Arithmetic Expressions\r\n",
    "\r\n",
    "Below are some examples of simple arithmetic expressions in Python.\r\n"
   ]
  },
  {
   "cell_type": "code",
   "execution_count": 1,
   "id": "24b35403-0558-4f47-a14f-4f2fa1e3273d",
   "metadata": {},
   "outputs": [
    {
     "data": {
      "text/plain": [
       "17"
      ]
     },
     "execution_count": 1,
     "metadata": {},
     "output_type": "execute_result"
    }
   ],
   "source": [
    "# Multiplication and Addition Example\n",
    "(3*4)+5"
   ]
  },
  {
   "cell_type": "code",
   "execution_count": 2,
   "id": "af424d79-4cae-4ecc-a772-49020ef227bb",
   "metadata": {},
   "outputs": [
    {
     "data": {
      "text/plain": [
       "3.3333333333333335"
      ]
     },
     "execution_count": 2,
     "metadata": {},
     "output_type": "execute_result"
    }
   ],
   "source": [
    "# Convert 200Minutes to Hours\n",
    "minutes = 200\n",
    "hours = minutes / 60\n",
    "hours\n"
   ]
  },
  {
   "cell_type": "markdown",
   "id": "938a0ac2-3274-4927-8627-dd5aa4ef81f2",
   "metadata": {},
   "source": [
    "## Author\n",
    "\n",
    "David Poblano\n"
   ]
  }
 ],
 "metadata": {
  "kernelspec": {
   "display_name": "Python 3 (ipykernel)",
   "language": "python",
   "name": "python3"
  },
  "language_info": {
   "codemirror_mode": {
    "name": "ipython",
    "version": 3
   },
   "file_extension": ".py",
   "mimetype": "text/x-python",
   "name": "python",
   "nbconvert_exporter": "python",
   "pygments_lexer": "ipython3",
   "version": "3.11.9"
  }
 },
 "nbformat": 4,
 "nbformat_minor": 5
}
